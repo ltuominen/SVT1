{
 "cells": [
  {
   "cell_type": "code",
   "execution_count": null,
   "metadata": {},
   "outputs": [],
   "source": [
    "# calculate time.dat\n",
    "\n",
    "# 6 x 30s, 3 x 1min, 2x2min, 16x 5min \n",
    "# = 6 x 30, 3 x 60, 2x 120, 16x 300 "
   ]
  },
  {
   "cell_type": "code",
   "execution_count": 2,
   "metadata": {},
   "outputs": [],
   "source": [
    "import numpy as np\n",
    "\n",
    "times = np.concatenate([\n",
    "    np.repeat(30,6),\n",
    "    np.repeat(60,3),\n",
    "    np.repeat(120,2),\n",
    "    np.repeat(300,16)\n",
    "])\n",
    "\n",
    "mean_times = times.cumsum() - (times / 2)\n",
    "fname = '/home/lauri/Documents/SVT1/info/time.dat'\n",
    "np.savetxt(fname, mean_times, fmt='%d')"
   ]
  }
 ],
 "metadata": {
  "kernelspec": {
   "display_name": "base",
   "language": "python",
   "name": "python3"
  },
  "language_info": {
   "codemirror_mode": {
    "name": "ipython",
    "version": 3
   },
   "file_extension": ".py",
   "mimetype": "text/x-python",
   "name": "python",
   "nbconvert_exporter": "python",
   "pygments_lexer": "ipython3",
   "version": "3.11.5"
  }
 },
 "nbformat": 4,
 "nbformat_minor": 2
}
