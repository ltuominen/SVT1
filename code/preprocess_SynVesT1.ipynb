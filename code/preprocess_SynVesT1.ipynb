{
 "cells": [
  {
   "cell_type": "markdown",
   "metadata": {},
   "source": [
    "## Preprocess SynVesT1 scan"
   ]
  },
  {
   "cell_type": "markdown",
   "metadata": {},
   "source": [
    "This is an example of how to preprocess a SynVesT1 scan for one subject"
   ]
  },
  {
   "cell_type": "code",
   "execution_count": 3,
   "metadata": {},
   "outputs": [],
   "source": [
    "# import libraries \n",
    "import os \n"
   ]
  },
  {
   "cell_type": "code",
   "execution_count": 5,
   "metadata": {},
   "outputs": [
    {
     "name": "stderr",
     "output_type": "stream",
     "text": [
      "sh: /usr/local/freesurfer/8.0.0/SetUpFreeSurfer.sh: No such file or directory\n"
     ]
    }
   ],
   "source": [
    "# define paths, files etc. \n",
    "base_path = os.path.dirname(os.getcwd())\n",
    "os.environ['SUBJECTS_DIR'] = f'{base_path}/SUBJECTS_DIR'\n",
    "os.environ['FREESURFER_HOME']= '/usr/local/freesurfer/8.0.0'\n",
    "os.system('source /usr/local/freesurfer/8.0.0/SetUpFreeSurfer.sh')\n",
    "\n",
    "pet = f'{base_path}/test_subject/pet.nii.gz'\n",
    "T1 = f'{base_path}/test_subject/T1.nii.gz'\n"
   ]
  }
 ],
 "metadata": {
  "kernelspec": {
   "display_name": "base",
   "language": "python",
   "name": "python3"
  },
  "language_info": {
   "codemirror_mode": {
    "name": "ipython",
    "version": 3
   },
   "file_extension": ".py",
   "mimetype": "text/x-python",
   "name": "python",
   "nbconvert_exporter": "python",
   "pygments_lexer": "ipython3",
   "version": "3.11.5"
  }
 },
 "nbformat": 4,
 "nbformat_minor": 2
}
